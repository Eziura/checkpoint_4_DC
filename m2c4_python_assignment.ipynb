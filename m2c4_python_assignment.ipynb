{
 "cells": [
  {
   "cell_type": "markdown",
   "metadata": {},
   "source": [
    "# M2C4 Python Assignment"
   ]
  },
  {
   "cell_type": "markdown",
   "metadata": {},
   "source": [
    "*Exercise 1: Create a list, tuple, float, integer, decimal, and dictionary.*"
   ]
  },
  {
   "cell_type": "code",
   "execution_count": 3,
   "metadata": {},
   "outputs": [],
   "source": [
    "# This is a list. Lists go inside square brackets \"[]\". This list can be changed (add items, remove items...).\n",
    "shopping_list = ['potatoes', 'tomatos', 'milk']\n",
    "\n",
    "# This is a tuple. Tuples go inside parentheses\"()\". Tuples can't be changed like lists\n",
    "shopping_tuple = ('potatoes', 'tomatos', 'milk')\n",
    "\n",
    "# This is a dictionary. Dictionaries go inside the curly brackets \"{}\"\n",
    "shopping_dict = {'potatoes': 2, 'tomatos': 3, 'milk': \"1 liter\"}"
   ]
  },
  {
   "cell_type": "code",
   "execution_count": 4,
   "metadata": {},
   "outputs": [],
   "source": [
    "# Integers are numbers with no decimals\n",
    "my_int = 1234\n",
    "\n",
    "# A float is a number that has decimals, but it does not have precision to do calculations\n",
    "my_float = 1.683"
   ]
  },
  {
   "cell_type": "code",
   "execution_count": 5,
   "metadata": {},
   "outputs": [],
   "source": [
    "# The decimal is like a float but with precision to make calculations because it represents real decimal numbers. It has to be imported.\n",
    "\n",
    "from decimal import Decimal\n",
    "\n",
    "my_decimal = Decimal('1.234')"
   ]
  },
  {
   "cell_type": "markdown",
   "metadata": {},
   "source": [
    "*Exercise 2: Round your float up.*\n",
    "\n",
    "The decimal part of my float is bigger than 0.5, so I can round it in two different ways:\n",
    "\n",
    "1. Using the function round(). \n",
    "    This function when the decimal part is bigger than 0.5 it rounds the float up, and when it's lower than 0.5 it rounds it down.\n",
    "\n",
    "2. Using the math.ceil() from the math library.\n",
    "    After importing the math library, this function rounds always the float up."
   ]
  },
  {
   "cell_type": "code",
   "execution_count": 6,
   "metadata": {},
   "outputs": [
    {
     "name": "stdout",
     "output_type": "stream",
     "text": [
      "2\n"
     ]
    }
   ],
   "source": [
    "# Using round()\n",
    "\n",
    "my_float_round = round(my_float)\n",
    "print(my_float_round) # So this has to print 2 because 1.683 is rounded to 2"
   ]
  },
  {
   "cell_type": "code",
   "execution_count": 7,
   "metadata": {},
   "outputs": [
    {
     "name": "stdout",
     "output_type": "stream",
     "text": [
      "2\n"
     ]
    }
   ],
   "source": [
    "# Using math.ceil()\n",
    "\n",
    "import math\n",
    "\n",
    "my_float_ceil = math.ceil(my_float)\n",
    "print(my_float_ceil) # So this also has to print 2 because 1.683 is rounded UP to 2"
   ]
  },
  {
   "cell_type": "markdown",
   "metadata": {},
   "source": [
    "*Exercise 3: Get the square root of your float.*\n",
    "\n",
    "The square root can be calculated in three different ways:\n",
    "\n",
    "1. As the power of 0.5. This has two different ways to calculate:\n",
    "\n",
    "    1.1. Using the \"**\" operator.\n",
    "\n",
    "    1.2. Using from the math library the function power()\n",
    "\n",
    "2. Using the function of sqrt() from the library math."
   ]
  },
  {
   "cell_type": "code",
   "execution_count": 8,
   "metadata": {},
   "outputs": [
    {
     "name": "stdout",
     "output_type": "stream",
     "text": [
      "1.2973048986263793\n"
     ]
    }
   ],
   "source": [
    "# As the power of 0.5 with power operator\n",
    "\n",
    "my_float_power_operator = my_float ** 0.5\n",
    "print(my_float_power_operator) # So this does the sqrt of my operator"
   ]
  },
  {
   "cell_type": "code",
   "execution_count": 9,
   "metadata": {},
   "outputs": [
    {
     "name": "stdout",
     "output_type": "stream",
     "text": [
      "1.2973048986263793\n"
     ]
    }
   ],
   "source": [
    "# As the power of 0.5 with power() function\n",
    "\n",
    "import math # I have the import already done in the previous exercise, but I am importing again to show the cases independetly.\n",
    "\n",
    "my_float_power_function = math.pow(my_float, 0.5)\n",
    "print(my_float_power_function)"
   ]
  },
  {
   "cell_type": "code",
   "execution_count": 10,
   "metadata": {},
   "outputs": [
    {
     "name": "stdout",
     "output_type": "stream",
     "text": [
      "1.2973048986263793\n"
     ]
    }
   ],
   "source": [
    "# With the sqrt() function from math\n",
    "\n",
    "import math\n",
    "\n",
    "my_float_sqrt = math.sqrt(my_float)\n",
    "print(my_float_sqrt)"
   ]
  },
  {
   "cell_type": "markdown",
   "metadata": {},
   "source": [
    "*Exercise 4: Select the first element from your dictionary.*\n",
    "\n",
    "The first element from my dictionary is potatoes as key and 2 as value. As I can't access the element as if it was a list with the index, I cant convert the items of the dictionary to a list. After converting them into a list, I can access the items using the index."
   ]
  },
  {
   "cell_type": "code",
   "execution_count": 11,
   "metadata": {},
   "outputs": [
    {
     "name": "stdout",
     "output_type": "stream",
     "text": [
      "('potatoes', 2)\n"
     ]
    }
   ],
   "source": [
    "# The first element from my dictionary is: key = potatoes, value = 2\n",
    "\n",
    "dict_items = shopping_dict.items()\n",
    "items_list = list(dict_items)\n",
    "print(items_list[0]) # index 0 to get the first element"
   ]
  },
  {
   "cell_type": "markdown",
   "metadata": {},
   "source": [
    "*Exercise 5: Select the second element from your tuple.*\n",
    "\n",
    "To select the second element from my tuple I can use the index like in the lists to access the element I want.\n"
   ]
  },
  {
   "cell_type": "code",
   "execution_count": 12,
   "metadata": {},
   "outputs": [
    {
     "name": "stdout",
     "output_type": "stream",
     "text": [
      "tomatos\n"
     ]
    }
   ],
   "source": [
    "# The second element from my tuple is 'tomatos'\n",
    "\n",
    "print(shopping_tuple[1]) # 1 is the index of the second element"
   ]
  },
  {
   "cell_type": "markdown",
   "metadata": {},
   "source": [
    "*Exercise 7: Replace the first element in your list.*\n",
    "\n",
    "I can replace elements in a list in different ways:\n",
    "\n",
    "1. Accessing from the index and assigning the new value.\n",
    "    Doing this you can access to the element where you want to replace for the new value, using the index and equaling to the new value.\n",
    "\n",
    "2. Using list slices.\n",
    "    Similar to the previous, more useful with more than more value, but you can use a slice and replace an element.\n",
    "\n",
    "2. Using pop() and insert().\n",
    "    This replaces the element in two steps. In the first step you can remove the first element from the list, and in the second you insert it.\n"
   ]
  },
  {
   "cell_type": "code",
   "execution_count": 13,
   "metadata": {},
   "outputs": [
    {
     "name": "stdout",
     "output_type": "stream",
     "text": [
      "['carrots', 'tomatos', 'milk']\n"
     ]
    }
   ],
   "source": [
    "# Replacing the first element of my list to 'carrots' with index\n",
    "\n",
    "shopping_list[0] = 'carrots'\n",
    "print(shopping_list) # So this has to print ['carrots', 'tomatos', 'milk'] instead of ['potatoes', 'tomatos', 'milk']"
   ]
  },
  {
   "cell_type": "code",
   "execution_count": 14,
   "metadata": {},
   "outputs": [
    {
     "name": "stdout",
     "output_type": "stream",
     "text": [
      "['carrots', 'tomatos', 'milk']\n"
     ]
    }
   ],
   "source": [
    "# Replacing the first element of my list to 'carrots' using slice\n",
    "\n",
    "shopping_list[:1] = ['carrots']  # The first position to the second position not included, also [0:1] is possible, but [:1] is more common\n",
    "print(shopping_list) # So this has to print ['carrots', 'tomatos', 'milk'] instead of ['potatoes', 'tomatos', 'milk']"
   ]
  },
  {
   "cell_type": "code",
   "execution_count": 15,
   "metadata": {},
   "outputs": [
    {
     "name": "stdout",
     "output_type": "stream",
     "text": [
      "['carrots', 'tomatos', 'milk']\n"
     ]
    }
   ],
   "source": [
    "# Replacing the first element of my lsit to 'carrots' using pop() and insert()\n",
    "\n",
    "shopping_list.pop(0) # This removes 'potatoes' from the list\n",
    "shopping_list.insert(0, 'carrots') # This adds 'carrots' to the list\n",
    "print(shopping_list) # So this also has to print ['carrots', 'tomatos', 'milk'] instead of ['potatoes', 'tomatos', 'milk']"
   ]
  },
  {
   "cell_type": "markdown",
   "metadata": {},
   "source": [
    "*Exercise 8: Sort your list alphabetically.*\n",
    "\n",
    "To sort the list alphabetically there is a method called sort()"
   ]
  },
  {
   "cell_type": "code",
   "execution_count": 16,
   "metadata": {},
   "outputs": [
    {
     "name": "stdout",
     "output_type": "stream",
     "text": [
      "['carrots', 'milk', 'tomatos']\n"
     ]
    }
   ],
   "source": [
    "# Sort my list using sort()\n",
    "\n",
    "shopping_list.sort()\n",
    "\n",
    "'''\n",
    "So this has to print ['carrots', 'milk', 'tomatos'] because I changed 'potatoes' to 'carrots'.\n",
    "To avoid this I could have create a new variable to store the new list with carrots.\n",
    "'''\n",
    "\n",
    "print(shopping_list)"
   ]
  },
  {
   "cell_type": "markdown",
   "metadata": {},
   "source": [
    "*Exercise 9: Use reassignment to add an element to your tuple.*\n",
    "\n",
    "As I mentioned before, the tuples are inmutable, so you can't add it directly. To do this task we need to use a reassignment. For example, I will add 'carrots' at the end of the tuple. This can be done with concatenation, which adds at the end the selected element.\n",
    "\n"
   ]
  },
  {
   "cell_type": "code",
   "execution_count": 17,
   "metadata": {},
   "outputs": [
    {
     "name": "stdout",
     "output_type": "stream",
     "text": [
      "('potatoes', 'tomatos', 'milk', 'carrots')\n"
     ]
    }
   ],
   "source": [
    "# Adding 'carrots' to my tuple using concatenation\n",
    "\n",
    "shopping_tuple_new = shopping_tuple + ('carrots',) # The comma is important so it doesn't give a TypeError\n",
    "print(shopping_tuple_new)"
   ]
  }
 ],
 "metadata": {
  "kernelspec": {
   "display_name": "base",
   "language": "python",
   "name": "python3"
  },
  "language_info": {
   "codemirror_mode": {
    "name": "ipython",
    "version": 3
   },
   "file_extension": ".py",
   "mimetype": "text/x-python",
   "name": "python",
   "nbconvert_exporter": "python",
   "pygments_lexer": "ipython3",
   "version": "3.11.8"
  }
 },
 "nbformat": 4,
 "nbformat_minor": 2
}
